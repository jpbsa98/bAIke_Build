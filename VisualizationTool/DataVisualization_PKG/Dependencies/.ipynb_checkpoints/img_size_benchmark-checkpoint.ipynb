{
 "cells": [
  {
   "cell_type": "code",
   "execution_count": 64,
   "metadata": {
    "colab": {
     "base_uri": "https://localhost:8080/"
    },
    "id": "eMcqaJP-xE8M",
    "outputId": "027cd1fc-0587-4f03-d4ed-9b78c6b88586"
   },
   "outputs": [
    {
     "name": "stdout",
     "output_type": "stream",
     "text": [
      "Requirement already satisfied: yolov4 in /usr/local/lib/python3.6/dist-packages (2.0.3)\n",
      "Requirement already satisfied: numpy>=1.18.0 in /usr/local/lib/python3.6/dist-packages (from yolov4) (1.19.5)\n",
      "Requirement already satisfied: easydict in /usr/local/lib/python3.6/dist-packages (from yolov4) (1.9)\n"
     ]
    }
   ],
   "source": [
    "!python3 -m pip install yolov4"
   ]
  },
  {
   "cell_type": "code",
   "execution_count": 1,
   "metadata": {
    "colab": {
     "base_uri": "https://localhost:8080/"
    },
    "id": "MqcHUHzC0_ul",
    "outputId": "9781593b-0729-46e5-fadb-9d17817101a3"
   },
   "outputs": [
    {
     "name": "stdout",
     "output_type": "stream",
     "text": [
      "Requirement already satisfied: tqdm in /home/mrflint/anaconda3/envs/mrflitn/lib/python3.8/site-packages (4.54.0)\n",
      "\u001b[33mWARNING: You are using pip version 20.3.1; however, version 20.3.3 is available.\n",
      "You should consider upgrading via the '/home/mrflint/anaconda3/envs/mrflitn/bin/python -m pip install --upgrade pip' command.\u001b[0m\n"
     ]
    }
   ],
   "source": [
    "!pip install tqdm"
   ]
  },
  {
   "cell_type": "code",
   "execution_count": 2,
   "metadata": {
    "colab": {
     "base_uri": "https://localhost:8080/"
    },
    "id": "plqvEiyveT2F",
    "outputId": "0bdfb5fa-5be4-4dd4-e2ae-b2a9a35493a7"
   },
   "outputs": [
    {
     "name": "stdout",
     "output_type": "stream",
     "text": [
      "Requirement already satisfied: collision in /home/mrflint/anaconda3/envs/mrflitn/lib/python3.8/site-packages (1.2.2)\n",
      "\u001b[33mWARNING: You are using pip version 20.3.1; however, version 20.3.3 is available.\n",
      "You should consider upgrading via the '/home/mrflint/anaconda3/envs/mrflitn/bin/python -m pip install --upgrade pip' command.\u001b[0m\n"
     ]
    }
   ],
   "source": [
    "!pip install collision"
   ]
  },
  {
   "cell_type": "code",
   "execution_count": 3,
   "metadata": {
    "id": "vY0a_yL3xOLM"
   },
   "outputs": [],
   "source": [
    "# global_dict = {\"2L\":0, \"2R\":0, \"3L\":0, \"3R\": 0,\n",
    "#                 \"4L\":0, \"4R\":0, \"5L\":0, \"5R\":0,\n",
    "#                 \"6L\":0, \"6R\":0}\n",
    "\n",
    "global_dict = {\"2\" : 0, \"3\" : 0, \"4\": 0, \"5\" : 0, \"6\" : 0}"
   ]
  },
  {
   "cell_type": "code",
   "execution_count": 5,
   "metadata": {
    "id": "rDTYtAGRxU2H"
   },
   "outputs": [],
   "source": [
    "import cv2\n",
    "import json\n",
    "from statistics import mean\n",
    "import time\n",
    "import os\n",
    "\n",
    "import sys\n",
    "from tqdm import tqdm\n",
    "import numpy as np\n",
    "from yolov4.tf import YOLOv4\n",
    "from collision import test_aabb, Vector, Poly"
   ]
  },
  {
   "cell_type": "code",
   "execution_count": 6,
   "metadata": {
    "id": "qU0Yhye6yCji"
   },
   "outputs": [],
   "source": [
    "base_path = \"\""
   ]
  },
  {
   "cell_type": "code",
   "execution_count": 7,
   "metadata": {
    "id": "hpnB1pe4zWDs"
   },
   "outputs": [
    {
     "ename": "ModuleNotFoundError",
     "evalue": "No module named 'drive'",
     "output_type": "error",
     "traceback": [
      "\u001b[0;31m---------------------------------------------------------------------------\u001b[0m",
      "\u001b[0;31mModuleNotFoundError\u001b[0m                       Traceback (most recent call last)",
      "\u001b[0;32m<ipython-input-7-17320d65757c>\u001b[0m in \u001b[0;36m<module>\u001b[0;34m\u001b[0m\n\u001b[1;32m      1\u001b[0m \u001b[0;31m# help(YOLOv4)\u001b[0m\u001b[0;34m\u001b[0m\u001b[0;34m\u001b[0m\u001b[0;34m\u001b[0m\u001b[0m\n\u001b[1;32m      2\u001b[0m \u001b[0;31m# sys.path.append(base_path)\u001b[0m\u001b[0;34m\u001b[0m\u001b[0;34m\u001b[0m\u001b[0;34m\u001b[0m\u001b[0m\n\u001b[0;32m----> 3\u001b[0;31m \u001b[0;32mfrom\u001b[0m \u001b[0mdrive\u001b[0m\u001b[0;34m.\u001b[0m\u001b[0mMyDrive\u001b[0m\u001b[0;34m.\u001b[0m\u001b[0mPei2020\u001b[0m\u001b[0;34m.\u001b[0m\u001b[0mr_utils\u001b[0m \u001b[0;32mimport\u001b[0m \u001b[0mget_route_boxes\u001b[0m\u001b[0;34m\u001b[0m\u001b[0;34m\u001b[0m\u001b[0m\n\u001b[0m",
      "\u001b[0;31mModuleNotFoundError\u001b[0m: No module named 'drive'"
     ]
    }
   ],
   "source": [
    "# help(YOLOv4)\n",
    "# sys.path.append(base_path)\n",
    "from drive.MyDrive.Pei2020.r_utils import get_route_boxes"
   ]
  },
  {
   "cell_type": "code",
   "execution_count": 71,
   "metadata": {
    "id": "QTd7FtxRdpcz"
   },
   "outputs": [],
   "source": [
    "def get_box(bx):\n",
    "  global x, y\n",
    "\n",
    "  c_x = bx[0] * x\n",
    "  c_y = bx[1] * y\n",
    "  half_w = (bx[2] * x) // 2\n",
    "  half_h = (bx[3] * y) // 2\n",
    "\n",
    "  return Poly(Vector(c_x, c_y), [Vector(-half_w, -half_h), Vector(-half_w, half_h), Vector(half_w, -half_h), Vector(half_w, half_h)])"
   ]
  },
  {
   "cell_type": "code",
   "execution_count": 72,
   "metadata": {
    "id": "txq-s6vjdCSd"
   },
   "outputs": [],
   "source": [
    "def check_colisions(boxes):\n",
    "  global pct, global_dict\n",
    "  \n",
    "  boxes_lst = get_route_boxes(pct)\n",
    "  joined_boxes_lst = [[boxes_lst[i], boxes_lst[i+1]] for i in range(0, len(boxes_lst), 2)]\n",
    "                                                    \n",
    "  for box in boxes:\n",
    "    box_poly = get_box(box)\n",
    "\n",
    "    for l, r in joined_boxes_lst:\n",
    "      if test_aabb(box_poly.aabb, l[-1]) or test_aabb(box_poly.aabb, r[-1]):\n",
    "        if (l[0][0]) != r[0][0]:\n",
    "          print(\"ERRO\")\n",
    "        global_dict[l[0][0]] = global_dict.get(l[0][0]) + 1\n",
    "\n",
    "    # for name, bbox in get_route_boxes(pct):\n",
    "    #   # print(\"Boas\")\n",
    "    #   if test_aabb(box_poly.aabb, bbox):\n",
    "    #     # print(global_dict)\n",
    "    #     global_dict[name] = global_dict.get(name) + 1\n",
    "        # print(global_dict)"
   ]
  },
  {
   "cell_type": "code",
   "execution_count": 73,
   "metadata": {
    "id": "gqEgC-IWx8oK"
   },
   "outputs": [],
   "source": [
    "def impactDetection(frame, yolo):\n",
    "\n",
    "    frame = cv2.rotate(frame, cv2.ROTATE_90_COUNTERCLOCKWISE)\n",
    "    frame = cv2.resize(frame,  yolo.input_size, interpolation = cv2.INTER_AREA)\n",
    "    boxes = yolo.predict(frame)\n",
    "\n",
    "    return boxes"
   ]
  },
  {
   "cell_type": "code",
   "execution_count": 74,
   "metadata": {
    "id": "9Vjmpf5Py5rR"
   },
   "outputs": [],
   "source": [
    "def get_yolo(img_size):\n",
    "\n",
    "    yolo = YOLOv4(tpu=True)\n",
    "    yolo.classes = base_path + \"coco.names\"\n",
    "    yolo.input_size = img_size\n",
    "    yolo.make_model()\n",
    "    yolo.load_weights(base_path + \"yolov4.weights\", weights_type=\"yolo\")\n",
    "\n",
    "    return yolo\n",
    "\n",
    "\n",
    "def updateDict(pred_dict, results):\n",
    "    for _, _, _, _, label, pct in results:\n",
    "        label = int(label)\n",
    "        pred_dict[label][\"count\"] =  pred_dict[label][\"count\"] + 1\n",
    "        tmp_list = pred_dict[label][\"pct_list\"]\n",
    "        tmp_list.append(round(pct, 4))\n",
    "        pred_dict[label][\"pct_list\"] = tmp_list\n",
    "        pred_dict[label][\"mean\"] = mean(tmp_list)\n",
    "        del tmp_list  \n",
    "    return  pred_dict  "
   ]
  },
  {
   "cell_type": "code",
   "execution_count": null,
   "metadata": {
    "colab": {
     "base_uri": "https://localhost:8080/"
    },
    "id": "Dkp_nxDIx_da",
    "outputId": "c3ff66ba-c227-456b-ac6b-5aebee92d12f"
   },
   "outputs": [
    {
     "name": "stderr",
     "output_type": "stream",
     "text": [
      "\n",
      "\n",
      "\n",
      "\n",
      "\n",
      "\n",
      "  0%|          | 0/5 [00:00<?, ?it/s]\u001b[A\u001b[A\u001b[A\u001b[A\u001b[A\u001b[A"
     ]
    }
   ],
   "source": [
    "b_dict = dict()\n",
    "\n",
    "for pct in tqdm(range(100, 0, -20)):\n",
    "        pct = pct/100\n",
    "        x = int(640*pct)\n",
    "        y = int(480*pct)\n",
    "\n",
    "\n",
    "        yolo = get_yolo((x, y))\n",
    "        coco_dict = {x:{\"name\":yolo.classes.get(x),\"count\":0, \"mean\":0, \"pct_list\":[]} for x in range(0,80)}\n",
    "        predict_times=[]\n",
    "        boxes_found=0\n",
    "        cap = cv2.VideoCapture(base_path + \"joinedVideo.mp4\")\n",
    "\n",
    "        while True:\n",
    "            ret, frame = cap.read()\n",
    "\n",
    "            if ret:\n",
    "                time_init = time.time()\n",
    "                result = impactDetection(frame, yolo)\n",
    "                #print(global_dict)\n",
    "                predict_times.append(round(time.time() - time_init, 4))\n",
    "\n",
    "                if sum([sum(x) for x in result]):\n",
    "                    boxes_found += len(result)\n",
    "                    check_colisions(result)\n",
    "                    # coco_dict=updateDict(coco_dict, res ult)\n",
    "\n",
    "\n",
    "                \n",
    "                #print(time.time()  - init)\n",
    "                #cv2.imshow(\"frame\", frame)\n",
    "                #print(boxes_found)\n",
    "                #print(coco_dict, boxes_found, predict_times)\n",
    "            else:\n",
    "                break\n",
    "\n",
    "            if cv2.waitKey(1) & 0xFFF == ord(\"q\"):\n",
    "                break\n",
    "            \n",
    "            \n",
    "            b_dict.update({pct:{\n",
    "                            \"coco.names\":coco_dict,\"boxes_found\": boxes_found, \\\n",
    "                            \"mean_predict_times\": mean(predict_times), \\\n",
    "                            \"predict_times\": predict_times\n",
    "                            }\n",
    "                        })\n",
    "\n",
    "        cap.release()\n",
    "        cv2.destroyAllWindows()\n",
    "        print(global_dict)\n",
    "        for k in global_dict.keys():\n",
    "          global_dict[k] = 0\n",
    "\n",
    "with open(base_path + \"file_with_collision_count.json\", \"w\") as f:\n",
    "  json.dump(b_dict, f)"
   ]
  },
  {
   "cell_type": "code",
   "execution_count": 63,
   "metadata": {
    "id": "15b7oF5IS9k7"
   },
   "outputs": [],
   "source": []
  }
 ],
 "metadata": {
  "accelerator": "TPU",
  "colab": {
   "collapsed_sections": [],
   "name": "img_size_benchmark.ipynb",
   "provenance": []
  },
  "kernelspec": {
   "display_name": "Python 3",
   "language": "python",
   "name": "python3"
  },
  "language_info": {
   "codemirror_mode": {
    "name": "ipython",
    "version": 3
   },
   "file_extension": ".py",
   "mimetype": "text/x-python",
   "name": "python",
   "nbconvert_exporter": "python",
   "pygments_lexer": "ipython3",
   "version": "3.8.3"
  }
 },
 "nbformat": 4,
 "nbformat_minor": 1
}
